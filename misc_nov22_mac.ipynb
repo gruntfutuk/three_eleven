{
 "cells": [
  {
   "cell_type": "code",
   "execution_count": 88,
   "outputs": [
    {
     "name": "stdout",
     "output_type": "stream",
     "text": [
      "ones: 2\n",
      "twos: 0\n",
      "threes: 1\n",
      "fours: 0\n",
      "fives: 0\n",
      "sixes: 2\n"
     ]
    }
   ],
   "source": [
    "nums = [1, 3, 6, 6, 1]\n",
    "numbers = {i: w for i, w in enumerate('ones twos threes fours fives sixes'.split(), start=1)}\n",
    "counts = dict.fromkeys(numbers.values(), 0)\n",
    "for num in set(nums):\n",
    "    counts[numbers[num]] = nums.count(num)\n",
    "print(*(f\"{k}: {v}\" for k, v in counts.items()), sep='\\n')"
   ],
   "metadata": {
    "collapsed": false
   }
  },
  {
   "cell_type": "code",
   "execution_count": 127,
   "outputs": [
    {
     "name": "stdout",
     "output_type": "stream",
     "text": [
      "Retrieving ...\n",
      "Saving ...\n",
      "Retrieving ...\n",
      "{'ac1234': {'name': 'fred', 'age': 22}, 'ac1235': {'name': 'kate', 'age': 19}, 'ac1236': {'name': 'phil', 'age': 20}}\n"
     ]
    }
   ],
   "source": [
    "from pathlib import Path\n",
    "import json\n",
    "\n",
    "\n",
    "def load_data(filename: Path) -> dict | None:\n",
    "    print('Retrieving ...')\n",
    "    if filename.is_file():\n",
    "        try:\n",
    "            with filename.open() as source:\n",
    "                data = json.load(source)\n",
    "        except (IOError, json.JSONDecodeError):\n",
    "            print('Retrieval failed')\n",
    "            return\n",
    "        return data\n",
    "\n",
    "\n",
    "def save_data(data: dict, filename: Path) -> bool:\n",
    "    print('Saving ...')\n",
    "    try:\n",
    "        with filename.open(\"w\") as outfile:\n",
    "            json.dump(data, outfile)\n",
    "    except IOError:\n",
    "        print('Saving Failed')\n",
    "        return False\n",
    "    return True\n",
    "\n",
    "\n",
    "data = {'ac1234': {'name': 'fred', 'age': 22},\n",
    "        'ac1235': {'name': 'kate', 'age': 19},\n",
    "        'ac1236': {'name': 'phil', 'age': 20}\n",
    "        }\n",
    "\n",
    "filename = Path('temp.json')\n",
    "retrieved = load_data(filename)\n",
    "if retrieved is None:\n",
    "    if save_data(data, filename):\n",
    "        retrieved = load_data(filename)\n",
    "if retrieved:\n",
    "    print(retrieved)\n",
    "else:\n",
    "    print('not able to retrieve data')\n"
   ],
   "metadata": {
    "collapsed": false
   }
  },
  {
   "cell_type": "code",
   "execution_count": 76,
   "outputs": [
    {
     "name": "stdout",
     "output_type": "stream",
     "text": [
      "yes activity\n"
     ]
    }
   ],
   "source": [
    "def is_yes(prompt):\n",
    "    while True:\n",
    "        response = input(prompt).strip().casefold()\n",
    "        if response in AFFIRMATION:\n",
    "            return True\n",
    "        if response in REJECTION:\n",
    "            return False\n",
    "        print('Sorry, I did not understand that')\n",
    "\n",
    "\n",
    "AFFIRMATION = frozenset(('y', 'yes', 'yup', 'yeh', 'ok', '1'))\n",
    "REJECTION = frozenset(('n', 'no', 'nah', 'nope', '0'))\n",
    "\n",
    "...\n",
    "\n",
    "if is_yes(\"Some question? \"):\n",
    "    print('yes activity')\n",
    "else:\n",
    "    print('no activity')\n"
   ],
   "metadata": {
    "collapsed": false
   }
  },
  {
   "cell_type": "code",
   "execution_count": 255,
   "outputs": [
    {
     "name": "stdout",
     "output_type": "stream",
     "text": [
      "6\n"
     ]
    }
   ],
   "source": [
    "    def how_many_even(string):\n",
    "    nums = [int(n) for n in string.split(\",\")]\n",
    "    return sum(not n % 2 for n in nums)\n",
    "\n",
    "\n",
    "print(how_many_even(input(\"Enter the list of numbers separated by commas\")))\n"
   ],
   "metadata": {
    "collapsed": false
   }
  },
  {
   "cell_type": "code",
   "execution_count": 263,
   "outputs": [
    {
     "name": "stdout",
     "output_type": "stream",
     "text": [
      "invalid literal for int() with base 10: ''\n",
      "out of range\n",
      "20 squared is 400\n"
     ]
    }
   ],
   "source": [
    "    while True:\n",
    "    response = input('Enter a whole number between 10 and 20: ')\n",
    "    try:\n",
    "        num = int(response)\n",
    "        if not 10 <= num <= 20:\n",
    "            raise ValueError('out of range')\n",
    "        break  # leave loop\n",
    "    except ValueError as err_msg:\n",
    "        print(err_msg)\n",
    "\n",
    "print(f'{num} squared is {num ** 2}')\n"
   ],
   "metadata": {
    "collapsed": false
   }
  },
  {
   "cell_type": "code",
   "execution_count": 268,
   "outputs": [
    {
     "name": "stdout",
     "output_type": "stream",
     "text": [
      "0.066 0.07139999999999999\n"
     ]
    }
   ],
   "source": [
    "abs = 0.06\n",
    "relinc = 0.19\n",
    "absinc = 1.1\n",
    "absrel = abs + abs * relinc\n",
    "absup = abs * absinc\n",
    "print(absup, absrel)\n"
   ],
   "metadata": {
    "collapsed": false
   }
  },
  {
   "cell_type": "code",
   "execution_count": 271,
   "outputs": [
    {
     "data": {
      "text/plain": "0.066"
     },
     "execution_count": 271,
     "metadata": {},
     "output_type": "execute_result"
    }
   ],
   "source": [
    "0.06 * 1.1\n"
   ],
   "metadata": {
    "collapsed": false
   }
  },
  {
   "cell_type": "code",
   "execution_count": 270,
   "outputs": [
    {
     "data": {
      "text/plain": "0.07139999999999999"
     },
     "execution_count": 270,
     "metadata": {},
     "output_type": "execute_result"
    }
   ],
   "source": [
    "0.06 + (0.06 * 0.19)\n"
   ],
   "metadata": {
    "collapsed": false
   }
  },
  {
   "cell_type": "code",
   "execution_count": 293,
   "outputs": [
    {
     "name": "stdout",
     "output_type": "stream",
     "text": [
      "[999]\n",
      "[0, 0, 0, 0, 0, 9]\n"
     ]
    }
   ],
   "source": [
    "class Animal:\n",
    "    def __init_subclass__(cls, **kwargs):\n",
    "        cls.sound = [0, 0, 0, 0, 0]\n",
    "\n",
    "\n",
    "class Dog(Animal):\n",
    "    sound = 'silence'\n",
    "\n",
    "    def __init__(self, name):\n",
    "        self.name = name\n",
    "        if name.startswith(\"R\"):\n",
    "            self.sound = [999]\n",
    "\n",
    "\n",
    "dog = Dog('Qoof')\n",
    "rover = Dog('Rover')\n",
    "dog.sound.append(9)\n",
    "print(rover.sound)\n",
    "print(dog.sound)\n",
    "# rover.sound=[10,20]\n",
    "# print(rover.sound)\n",
    "# print(dog.sound)\n",
    "\n"
   ],
   "metadata": {
    "collapsed": false
   }
  },
  {
   "cell_type": "code",
   "execution_count": 298,
   "outputs": [
    {
     "name": "stdout",
     "output_type": "stream",
     "text": [
      "ignored bad data row 2: ['xxxx']\n",
      "Total: 240\n"
     ]
    }
   ],
   "source": [
    "    from io import StringIO\n",
    "import csv\n",
    "\n",
    "data = \"\"\"xxxx,xxxx,xxxx, xxxx, xxxx, 50\n",
    "    xxxx,xxxx,xxxx,xxxx,xxxx, 100\n",
    "    xxxx\n",
    "    xxxx,xxxx,xxxx,xxxx,xxxx, 20\n",
    "    xxxx,xxxx,xxxx,xxxx,xxxx, 30\n",
    "    xxxx,xxxx,xxxx,xxxx,xxxx, 40\"\"\"\n",
    "\n",
    "with StringIO(data) as source:\n",
    "    reader = csv.reader(source)\n",
    "    total = 0\n",
    "    for idx, row in enumerate(reader):\n",
    "        try:\n",
    "            total += int(row[-1])\n",
    "        except ValueError:\n",
    "            print(f\"ignored bad data row {idx}: {row}\")\n",
    "print('Total:', total)\n"
   ],
   "metadata": {
    "collapsed": false
   }
  },
  {
   "cell_type": "code",
   "execution_count": 313,
   "outputs": [
    {
     "name": "stdout",
     "output_type": "stream",
     "text": [
      "{'alpha': [' xxxx', 'xxxx', 'xxxx', 'xxxx', 'xxxx'], 'beta': [' xxxx', 'xxxx', 'xxxx', 'xxxx', 'xxxx'], 'charlie': [' xxxx', 'xxxx', 'xxxx', 'xxxx', 'xxxx']}\n",
      "{'beta': [' xxxx', 'xxxx', 'xxxx', 'xxxx', 'xxxx'], 'delta': [' xxxx', 'xxxx', 'xxxx', 'xxxx', 'xxxx'], 'echo': [' xxxx', 'xxxx', 'xxxx', 'xxxx', 'xxxx']}\n",
      "Sorry, the register needs to be in our system and available for renting.\n",
      "Sorry, the register needs to be in our system and available for renting.\n",
      "Sorry, the register needs to be in our system and available for renting.\n"
     ]
    },
    {
     "data": {
      "text/plain": "'alpha'"
     },
     "execution_count": 313,
     "metadata": {},
     "output_type": "execute_result"
    }
   ],
   "source": [
    "    from io import StringIO\n",
    "import csv\n",
    "\n",
    "\n",
    "def get_cars(file_handle):\n",
    "    reader = csv.reader(file_handle)\n",
    "    data = {}\n",
    "    for row in reader:\n",
    "        data[row[0]] = row[1:]\n",
    "    return data\n",
    "\n",
    "\n",
    "def check_car():\n",
    "    with StringIO(cars) as f1, StringIO(rented) as f2:\n",
    "        all_cars = get_cars(f1)\n",
    "        rented_cars = get_cars(f2)\n",
    "\n",
    "        print(all_cars)\n",
    "        print(rented_cars)\n",
    "\n",
    "        while True:\n",
    "            register = input(\"Please enter the register number of the car you would like to rent:\\n\")\n",
    "            if not register:\n",
    "                return None\n",
    "            if register in all_cars and register not in rented_cars:\n",
    "                return register\n",
    "            else:\n",
    "                print(\"Sorry, the register needs to be in our system and available for renting.\")\n",
    "            continue\n",
    "\n",
    "\n",
    "cars = \"\"\"alpha, xxxx,xxxx,xxxx,xxxx,xxxx\n",
    "    beta, xxxx,xxxx,xxxx,xxxx,xxxx\n",
    "    charlie, xxxx,xxxx,xxxx,xxxx,xxxx\"\"\"\n",
    "rented = \"\"\"beta, xxxx,xxxx,xxxx,xxxx,xxxx\n",
    "    delta, xxxx,xxxx,xxxx,xxxx,xxxx\n",
    "    echo, xxxx,xxxx,xxxx,xxxx,xxxx\"\"\"\n",
    "\n",
    "check_car()\n"
   ],
   "metadata": {
    "collapsed": false
   }
  },
  {
   "cell_type": "code",
   "execution_count": 317,
   "outputs": [
    {
     "name": "stdout",
     "output_type": "stream",
     "text": [
      "6.666666666666667\n"
     ]
    }
   ],
   "source": [
    "    import operator\n",
    "\n",
    "ops = {\"+\": operator.add, \"-\": operator.sub,\n",
    "       \"*\": operator.mul, \"/\": operator.truediv}\n",
    "\n",
    "a = 2\n",
    "b = 2\n",
    "s = \"\"\n",
    "\n",
    "\n",
    "def calculator(a: int, b: int, s: str):\n",
    "    return ops[s](a, b)\n",
    "\n",
    "\n",
    "print(calculator(a, b, s))\n"
   ],
   "metadata": {
    "collapsed": false
   }
  },
  {
   "cell_type": "code",
   "execution_count": 318,
   "outputs": [],
   "source": [
    "def syllable_count(word):\n",
    "    #counting variable\n",
    "    count = 0\n",
    "    #define the vowels\n",
    "    vowel = 'aeiou'\n",
    "\n",
    "    #limit the range inside the lenght of word\n",
    "    for i in range(0, len(word)):\n",
    "        #if the vowel is not contiguous\n",
    "        if word[i] in vowel:\n",
    "            if word[i - 1] not in vowel:\n",
    "                count += 1\n",
    "\n",
    "        #if the last letter is e we don't count\n",
    "        if word[-1] == 'e':\n",
    "            count -= 1\n",
    "        #if the last letter is y we count it as vowel\n",
    "        if word[-1] == 'y':\n",
    "            count += 1\n",
    "        #if the count =0 at the end we need to add one to offset the previous argument\n",
    "        if i == (len(word) - 1) and count == 0:\n",
    "            count += 1\n",
    "    return count\n"
   ],
   "metadata": {
    "collapsed": false
   }
  },
  {
   "cell_type": "code",
   "execution_count": 319,
   "outputs": [
    {
     "data": {
      "text/plain": "3"
     },
     "execution_count": 319,
     "metadata": {},
     "output_type": "execute_result"
    }
   ],
   "source": [
    "syllable_count('attention')\n"
   ],
   "metadata": {
    "collapsed": false
   }
  },
  {
   "cell_type": "code",
   "execution_count": 324,
   "outputs": [],
   "source": [
    "    def encode_string(string):\n",
    "    encoded = ''  #string for output\n",
    "    for letter in string:\n",
    "        if letter in vowels:\n",
    "            encoded += shift[vowels.index(letter)]\n",
    "        else:\n",
    "            encoded += letter\n",
    "    return encoded\n",
    "\n",
    "\n",
    "vowels = 'aeiou'\n",
    "shift = vowels[1:] + vowels[:1]\n",
    "vowels += vowels.upper()\n",
    "shift += shift.upper()"
   ],
   "metadata": {
    "collapsed": false
   }
  },
  {
   "cell_type": "code",
   "execution_count": 326,
   "outputs": [
    {
     "data": {
      "text/plain": "'eiouaEIOUA'"
     },
     "execution_count": 326,
     "metadata": {},
     "output_type": "execute_result"
    }
   ],
   "source": [
    "encode_string('aeiouAEIOU')\n"
   ],
   "metadata": {
    "collapsed": false
   }
  },
  {
   "cell_type": "code",
   "execution_count": 329,
   "outputs": [
    {
     "name": "stdout",
     "output_type": "stream",
     "text": [
      "eiouabbbBBBEIOUA\n"
     ]
    }
   ],
   "source": [
    "    def encode_string(string):\n",
    "    encoded = ''  #string for output\n",
    "    for letter in string:\n",
    "        if letter in vowels:\n",
    "            pos = 0\n",
    "            while pos < len(vowels):\n",
    "                if vowels[pos] == letter:\n",
    "                    encoded += shift[pos]\n",
    "                    break\n",
    "                pos += 1\n",
    "        else:\n",
    "            encoded += letter\n",
    "    return encoded\n",
    "\n",
    "\n",
    "vowels = 'aeiou'\n",
    "shift = vowels[1:] + vowels[:1]\n",
    "vowels += vowels.upper()\n",
    "shift += shift.upper()\n",
    "\n",
    "print(encode_string('aeioubbbBBBAEIOU'))\n"
   ],
   "metadata": {
    "collapsed": false
   }
  },
  {
   "cell_type": "code",
   "execution_count": 2,
   "outputs": [
    {
     "name": "stdout",
     "output_type": "stream",
     "text": [
      "Rock smashes scissors! You win!\n",
      "It's a tie!\n",
      "Paper covers rock! You lose.\n",
      "Paper covers Rock! You win!\n",
      "It's a tie!\n",
      "Scissors cut Paper! You lose.\n",
      "Rock smashes Scissors! You lose.\n",
      "Scissors cut Paper! You win!\n"
     ]
    }
   ],
   "source": [
    "    import random\n",
    "\n",
    "PLAYS = ['Rock', 'Paper', 'Scissors']\n",
    "\n",
    "\n",
    "def aiRoll():\n",
    "    shoot = random.choice(PLAYS)\n",
    "    return shoot\n",
    "\n",
    "\n",
    "def humanRoll():\n",
    "    while True:\n",
    "        play = input(\"Enter Rock, Paper or Scissors:  (or return to finish) \").title()  # title, not upper\n",
    "        if not play or play in PLAYS:\n",
    "            return play\n",
    "        print('Please enter one of:', ', '.join(PLAYS))\n",
    "\n",
    "\n",
    "def determineWinner(ai, player):\n",
    "    if ai == player:\n",
    "        print(\"It's a tie!\")\n",
    "    if player == \"Rock\":\n",
    "        if ai == \"Scissors\":\n",
    "            return \"Rock smashes scissors! You win!\"\n",
    "        return \"Paper covers rock! You lose.\"\n",
    "    if player == \"Paper\":\n",
    "        if ai == \"Rock\":\n",
    "            return \"Paper covers Rock! You win!\"\n",
    "        return \"Scissors cut Paper! You lose.\"\n",
    "    elif player == \"Scissors\":\n",
    "        if ai == \"Paper\":\n",
    "            return \"Scissors cut Paper! You win!\"\n",
    "        return \"Rock smashes Scissors! You lose.\"\n",
    "\n",
    "\n",
    "def main():\n",
    "    while True:\n",
    "        computer = aiRoll()\n",
    "        aplayer = humanRoll()\n",
    "        if not aplayer:  # empty entry means user wants to finish\n",
    "            break  # leave loop\n",
    "        result = determineWinner(computer, aplayer)\n",
    "        print(result)\n",
    "\n",
    "\n",
    "main()\n"
   ],
   "metadata": {
    "collapsed": false
   }
  },
  {
   "cell_type": "code",
   "execution_count": 3,
   "outputs": [
    {
     "name": "stdout",
     "output_type": "stream",
     "text": [
      "||| List-Based Dictionary Updater |||\n",
      "\n",
      "Establishing initial values...\n",
      "List: [0, 1]\n",
      "Dictionary: {'(0,0)': 0, '(0,1)': 1, '(1,2)': 0}\n",
      "Begin process:\n",
      "\n",
      "Converting current coordinates to key...\n",
      "Current coordinates acquired. Converting to key now...\n",
      "Key A: (0,1)\n",
      "Success. Key A stored.\n",
      "Converting new coordinates to key...\n",
      "Coordinates updated. Converting to key...\n",
      "Key B: (1,2)\n",
      "Success. Key B stored.\n",
      "Updating dictionary...\n",
      "Updating list...\n",
      "List: [1, 2]\n",
      "Dictionary: {'(0,0)': 0, '(0,1)': 0, '(1,2)': 1}\n"
     ]
    }
   ],
   "source": [
    "print(\"||| List-Based Dictionary Updater |||\")\n",
    "print(\"\")\n",
    "print(\"Establishing initial values...\")\n",
    "thislist = [0, 1]\n",
    "thisdict = {\"(0,0)\": 0, \"(0,1)\": 1, \"(1,2)\": 0}\n",
    "convertedstringa = \"\"\n",
    "convertedstringb = \"\"\n",
    "listx = 0\n",
    "listy = 0\n",
    "newlistx = 0\n",
    "newlisty = 0\n",
    "\n",
    "print(f\"List: {thislist}\")\n",
    "print(f\"Dictionary: {thisdict}\")\n",
    "\n",
    "print(\"Begin process:\")\n",
    "\n",
    "\n",
    "def convertListToKeyA():\n",
    "    global listx\n",
    "    global listy\n",
    "    listx = thislist[0]\n",
    "    listy = thislist[1]\n",
    "    print(\"Current coordinates acquired. Converting to key now...\")\n",
    "\n",
    "    global convertedstringa\n",
    "    convertedstringa = str(\"(\" + str(listx) + \",\" + str(listy) + \")\")\n",
    "    print(f\"Key A: {convertedstringa}\")\n",
    "    print(\"Success. Key A stored.\")\n",
    "\n",
    "\n",
    "def convertListToKeyB():\n",
    "    global newlistx\n",
    "    global newlisty\n",
    "    newlistx = thislist[0] + 1\n",
    "    newlisty = thislist[1] + 1\n",
    "\n",
    "    print(\"Coordinates updated. Converting to key...\")\n",
    "\n",
    "    global convertedstringb\n",
    "    convertedstringb = str(\"(\" + str(newlistx) + \",\" + str(newlisty) + \")\")\n",
    "    print(f\"Key B: {convertedstringb}\")\n",
    "\n",
    "    print(\"Success. Key B stored.\")\n",
    "\n",
    "\n",
    "def updateList():\n",
    "    thislist[0] = newlistx\n",
    "    thislist[1] = newlisty\n",
    "\n",
    "\n",
    "def updateDict():\n",
    "    thisdict[convertedstringa] = 0\n",
    "    thisdict[convertedstringb] = 1\n",
    "\n",
    "\n",
    "print(\"\")\n",
    "print(\"Converting current coordinates to key...\")\n",
    "convertListToKeyA()\n",
    "print(\"Converting new coordinates to key...\")\n",
    "convertListToKeyB()\n",
    "print(\"Updating dictionary...\")\n",
    "updateDict()\n",
    "print(\"Updating list...\")\n",
    "updateList()\n",
    "print(f\"List: {thislist}\")\n",
    "print(f\"Dictionary: {thisdict}\")\n"
   ],
   "metadata": {
    "collapsed": false
   }
  },
  {
   "cell_type": "code",
   "execution_count": 5,
   "outputs": [
    {
     "data": {
      "text/plain": "0"
     },
     "execution_count": 5,
     "metadata": {},
     "output_type": "execute_result"
    }
   ],
   "source": [
    "thislist = [0, 1]\n",
    "listx = thislist[0]\n",
    "listx\n"
   ],
   "metadata": {
    "collapsed": false
   }
  },
  {
   "cell_type": "code",
   "execution_count": 77,
   "outputs": [
    {
     "name": "stdout",
     "output_type": "stream",
     "text": [
      "\n",
      "\n",
      "Board:\n",
      " ---------------------------------\n",
      "|   FREE   |   FREE   |   FREE   |\n",
      " ---------------------------------\n",
      "|   FREE   | OCCUPIED |   FREE   |\n",
      " ---------------------------------\n",
      "|   FREE   |   FREE   |   FREE   |\n",
      " ---------------------------------\n",
      "\n",
      "\n",
      "\n",
      "Board:\n",
      " ---------------------------------\n",
      "|   FREE   |   FREE   |   FREE   |\n",
      " ---------------------------------\n",
      "|   FREE   | OCCUPIED |   FREE   |\n",
      " ---------------------------------\n",
      "|   FREE   |   FREE   |   FREE   |\n",
      " ---------------------------------\n",
      "\n"
     ]
    }
   ],
   "source": [
    "from typing import NamedTuple\n",
    "from enum import Enum\n",
    "\n",
    "ROWS = 3\n",
    "COLS = 3\n",
    "\n",
    "\n",
    "class Coord(NamedTuple):\n",
    "    row: int\n",
    "    col: int\n",
    "\n",
    "\n",
    "class Status(Enum):\n",
    "    FREE = 1\n",
    "    OCCUPIED = 2\n",
    "    HOLE = 3\n",
    "    WALL = 4\n",
    "    PAD = 5\n",
    "\n",
    "\n",
    "class GameBoard:\n",
    "\n",
    "    def __init__(self):\n",
    "        self._board = [[Status.FREE for _ in range(COLS)] for _ in range(ROWS)]\n",
    "        self._curr_pos = Coord(1, 1)\n",
    "        self.set(Coord(1, 1), Status.OCCUPIED)\n",
    "\n",
    "    def __str__(self):\n",
    "        width = max(len(name) for name in Status.__members__.keys())\n",
    "        output = []\n",
    "        line = ' ' + '-' * ((width + 3) * len(self._board[0])) + '\\n'\n",
    "        output.append('\\n\\nBoard:\\n')\n",
    "        for row in self._board:\n",
    "            output.append(line)\n",
    "            for col in row:\n",
    "                output.append(f'| {col.name:^{width}} ')\n",
    "            output.append('|\\n')\n",
    "        output.append(line)\n",
    "        return ''.join(output)\n",
    "\n",
    "    @property\n",
    "    def pos(self):\n",
    "        return self.curr_pos\n",
    "\n",
    "    def is_valid_pos(self, pos: Coord) -> bool:\n",
    "        return 0 <= pos.row < len(self._board) and 0 <= pos.col < len(self._board[0])\n",
    "\n",
    "    def set(self, pos: Coord, status: Status) -> None:\n",
    "        if not isinstance(status, Status):\n",
    "            raise ValueError(f'Unknown status: {status}')\n",
    "        if self.is_valid_pos(pos):\n",
    "            self._board[pos.row][pos.col] = status\n",
    "        else:\n",
    "            raise IndexError('Invalid board coordinate: {pos}')\n",
    "\n",
    "    def move(self, delta: Coord) -> None:\n",
    "        new_coord = Coord(self._curr_pos.row + delta.row, self._curr_pos.col + delta.col)\n",
    "        if self.is_valid_pos(new_coord):\n",
    "            self._curr_pos = new_coord\n",
    "        else:\n",
    "            raise ValueError(f'Invalid move to {new_coord}')\n",
    "\n",
    "\n",
    "board = GameBoard()\n",
    "print(board)\n",
    "board.move(Coord(-1, 0))\n",
    "print(board)"
   ],
   "metadata": {
    "collapsed": false
   }
  },
  {
   "cell_type": "code",
   "execution_count": 38,
   "outputs": [
    {
     "data": {
      "text/plain": "True"
     },
     "execution_count": 38,
     "metadata": {},
     "output_type": "execute_result"
    }
   ],
   "source": [
    "board.is_valid_pos(Coord(1, 2))\n"
   ],
   "metadata": {
    "collapsed": false
   }
  },
  {
   "cell_type": "code",
   "execution_count": 51,
   "outputs": [
    {
     "data": {
      "text/plain": "'OCCUPIED'"
     },
     "execution_count": 51,
     "metadata": {},
     "output_type": "execute_result"
    }
   ],
   "source": [
    "board._board[1][1].name\n"
   ],
   "metadata": {
    "collapsed": false
   }
  },
  {
   "cell_type": "code",
   "execution_count": 66,
   "outputs": [],
   "source": [
    "    from datetime import datetime, timedelta\n",
    "\n",
    "data = \"\"\"00:33:09\n",
    "    00:37:10\n",
    "    00:21:47\n",
    "    00:05:48\n",
    "    00:08:41\n",
    "    00:47:07\n",
    "    00:35:46\n",
    "    10:10:10\n",
    "    10:10:10\n",
    "    10:10:10\"\"\"\n",
    "\n",
    "accumulated = datetime(1901, 1, 1, 0, 0, 0, 0)\n",
    "with open('output.txt', 'w') as f:\n",
    "    for row in data.split():\n",
    "        duration = datetime.strptime(row, '%H:%M:%S')\n",
    "        delta = timedelta(hours=duration.hour, minutes=duration.minute, seconds=duration.second)\n",
    "        accumulated += delta\n",
    "        f.write(f\"{accumulated.day - 1}, {accumulated.strftime('%H:%M:%S')}\\n\")\n"
   ],
   "metadata": {
    "collapsed": false
   }
  },
  {
   "cell_type": "code",
   "execution_count": 56,
   "outputs": [
    {
     "name": "stdout",
     "output_type": "stream",
     "text": [
      "a = 3 occurrences\n",
      "b = 3 occurrences\n",
      "c = 3 occurrences\n",
      "d = 3 occurrences\n",
      "e = 3 occurrences\n",
      "f = 3 occurrences\n",
      "g = 3 occurrences\n",
      "h = 3 occurrences\n",
      "i = 3 occurrences\n",
      "j = 3 occurrences\n",
      "k = 3 occurrences\n",
      "l = 3 occurrences\n",
      "m = 3 occurrences\n",
      "n = 3 occurrences\n",
      "o = 3 occurrences\n",
      "p = 3 occurrences\n",
      "q = 3 occurrences\n",
      "r = 3 occurrences\n",
      "s = 3 occurrences\n",
      "t = 3 occurrences\n",
      "u = 3 occurrences\n",
      "v = 3 occurrences\n",
      "w = 3 occurrences\n",
      "x = 3 occurrences\n",
      "y = 3 occurrences\n",
      "z = 3 occurrences\n"
     ]
    }
   ],
   "source": [
    "def char_count(string, counts=None):\n",
    "    base = ord('a')\n",
    "    if counts is None:\n",
    "        counts = [0 for _ in range(26)]\n",
    "    for letter in string.lower():\n",
    "        code = ord(letter) - base\n",
    "        if 0 <= code < 26:\n",
    "            counts[code] += 1\n",
    "    return counts\n",
    "\n",
    "def report_counts(counts):\n",
    "for idx, letter in enumerate('abcdefghijklmnopqrstuvwxyz'):\n",
    "    print(f'{letter} = {counts[idx]} occurrences')\n",
    "\n",
    "with open('words.txt') as lorem:\n",
    "    data = lorem.read()\n",
    "\n",
    "counts = char_count(data)\n",
    "report_counts(counts)\n"
   ],
   "metadata": {
    "collapsed": false
   }
  },
  {
   "cell_type": "code",
   "execution_count": 83,
   "outputs": [
    {
     "name": "stdout",
     "output_type": "stream",
     "text": [
      "picked,  charlie to start\n",
      "This is team charlie and the next team is alfa\n",
      "This is team beta and the next team is charlie\n",
      "This is team alfa and the next team is beta\n",
      "This is team charlie and the next team is alfa\n",
      "This is team beta and the next team is charlie\n",
      "This is team alfa and the next team is beta\n",
      "This is team charlie and the next team is alfa\n",
      "This is team beta and the next team is charlie\n",
      "This is team alfa and the next team is beta\n",
      "This is team charlie and the next team is alfa\n",
      "This is team beta and the next team is charlie\n",
      "This is team alfa and the next team is beta\n",
      "This is team charlie and the next team is alfa\n",
      "This is team beta and the next team is charlie\n",
      "This is team alfa and the next team is beta\n",
      "This is team charlie and the next team is alfa\n",
      "This is team beta and the next team is charlie\n",
      "This is team alfa and the next team is beta\n",
      "This is team charlie and the next team is alfa\n",
      "This is team beta and the next team is charlie\n"
     ]
    }
   ],
   "source": [
    "    from itertools import cycle, dropwhile\n",
    "from random import choice\n",
    "\n",
    "def start_cycle(team, teams):\n",
    "    return dropwhile(lambda x: x != team, cycle(teams))\n",
    "\n",
    "teams = ['alfa', 'beta', 'charlie']\n",
    "team = choice(teams)  # first team to start from\n",
    "picker = start_cycle(team, teams)  # start a cycle from picked team\n",
    "counter = 0  # don't want an infinite loop\n",
    "max_loops = 20\n",
    "while counter < max_loops:\n",
    "    a = next(picker)\n",
    "    b = next(picker)\n",
    "    print(f\"This is team {a} and the next team is {b}\")\n",
    "    counter += 1\n"
   ],
   "metadata": {
    "collapsed": false
   }
  },
  {
   "cell_type": "code",
   "execution_count": 84,
   "outputs": [
    {
     "name": "stdout",
     "output_type": "stream",
     "text": [
      "Shooting the green alien yields 5 points.\n",
      "Shooting the yellow alien yields 10 points.\n",
      "Shooting the red alien yields 15 points.\n"
     ]
    }
   ],
   "source": [
    "alien_0 = {'green': '', '5': ''}\n",
    "alien_1 = {'yellow': '', '10': ''}\n",
    "alien_2 = {'red': '', '15': ''}\n",
    "aliens = [alien_0, alien_1, alien_2]\n",
    "for color, points in aliens:\n",
    "    print(f\"Shooting the {color} alien yields {points} points.\")\n"
   ],
   "metadata": {
    "collapsed": false
   }
  },
  {
   "cell_type": "code",
   "execution_count": 85,
   "outputs": [
    {
     "data": {
      "text/plain": "'15'"
     },
     "execution_count": 85,
     "metadata": {},
     "output_type": "execute_result"
    }
   ],
   "source": [
    "points\n"
   ],
   "metadata": {
    "collapsed": false
   }
  },
  {
   "cell_type": "code",
   "execution_count": 2,
   "outputs": [
    {
     "name": "stdout",
     "output_type": "stream",
     "text": [
      "Shooting the green alien yields 5 points.\n",
      "Shooting the yellow alien yields 10 points.\n",
      "Shooting the red alien yields 15 points.\n"
     ]
    }
   ],
   "source": [
    "    from dataclasses import dataclass\n",
    "\n",
    "\n",
    "@dataclass\n",
    "class Alien:\n",
    "    colour: str\n",
    "    points: int\n",
    "\n",
    "    def __str__(self):\n",
    "        return f\"Shooting the {self.colour} alien yields {self.points} points.\"\n",
    "\n",
    "\n",
    "aliens = [Alien('green', 5), Alien('yellow', 10), Alien('red', 15)]\n",
    "\n",
    "for alien in aliens:\n",
    "    print(alien)"
   ],
   "metadata": {
    "collapsed": false
   }
  },
  {
   "cell_type": "code",
   "execution_count": 106,
   "outputs": [
    {
     "name": "stdout",
     "output_type": "stream",
     "text": [
      "{'Color': 'White', 'Gender': 'Women', 'Quantity': '60'}\n"
     ]
    }
   ],
   "source": [
    "    features = [{'Color': 'White','code': 'mafuaeClassification/1.0/nc-beauty-personal-care.color'},\n",
    "                {'Gender': 'Women', 'code': 'mafuaeClassification/1.0/nc-beauty-personal-care.gender'},\n",
    "                {'Quantity': '60', 'code': 'mafuaeClassification/1.0/nc-beauty-personal-care.quantity'}]\n",
    "\n",
    "    new_dict = {}\n",
    "    for dict_ in features:\n",
    "        for key, value in dict_.items():\n",
    "            if key != 'code':\n",
    "                new_dict[key] = value\n",
    "\n",
    "print(new_dict)\n"
   ],
   "metadata": {
    "collapsed": false
   }
  },
  {
   "cell_type": "code",
   "execution_count": 119,
   "outputs": [
    {
     "name": "stdout",
     "output_type": "stream",
     "text": [
      "\n",
      "symbol____: AMZN\n",
      "units_____: 600\n",
      "cost______: 1223.43\n",
      "\n",
      "symbol____: APPL\n",
      "units_____: 100\n",
      "cost______: 154.23\n"
     ]
    }
   ],
   "source": [],
   "metadata": {
    "collapsed": false
   }
  },
  {
   "cell_type": "code",
   "execution_count": null,
   "outputs": [],
   "source": [
    "    pytest mycode.py\n",
    "    ========================= test session starts ==========================\n",
    "    platform darwin -- Python 3.9.12, pytest-7.1.2, pluggy-1.0.0\n",
    "    rootdir: some_folder\n",
    "    plugins: anyio-3.5.0\n",
    "    collected 1 item\n",
    "\n",
    "    mycode.py .                                                      [100%]\n",
    "\n",
    "    ========================== 1 passed in 0.03s ===========================\n"
   ],
   "metadata": {
    "collapsed": false
   }
  }
 ],
 "metadata": {
  "kernelspec": {
   "display_name": "Python 3",
   "language": "python",
   "name": "python3"
  },
  "language_info": {
   "codemirror_mode": {
    "name": "ipython",
    "version": 2
   },
   "file_extension": ".py",
   "mimetype": "text/x-python",
   "name": "python",
   "nbconvert_exporter": "python",
   "pygments_lexer": "ipython2",
   "version": "2.7.6"
  }
 },
 "nbformat": 4,
 "nbformat_minor": 0
}

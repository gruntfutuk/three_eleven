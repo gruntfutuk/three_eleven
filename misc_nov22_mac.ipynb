{
 "cells": [
  {
   "cell_type": "code",
   "execution_count": 88,
   "outputs": [
    {
     "name": "stdout",
     "output_type": "stream",
     "text": [
      "ones: 2\n",
      "twos: 0\n",
      "threes: 1\n",
      "fours: 0\n",
      "fives: 0\n",
      "sixes: 2\n"
     ]
    }
   ],
   "source": [
    "nums = [1, 3, 6, 6, 1]\n",
    "numbers = {i: w for i, w in enumerate('ones twos threes fours fives sixes'.split(), start=1)}\n",
    "counts = dict.fromkeys(numbers.values(), 0)\n",
    "for num in set(nums):\n",
    "    counts[numbers[num]] = nums.count(num)\n",
    "print(*(f\"{k}: {v}\" for k, v in counts.items()), sep='\\n')"
   ],
   "metadata": {
    "collapsed": false
   }
  },
  {
   "cell_type": "code",
   "execution_count": 91,
   "outputs": [
    {
     "name": "stdout",
     "output_type": "stream",
     "text": [
      "Help on class filter in module builtins:\n",
      "\n",
      "class filter(object)\n",
      " |  filter(function or None, iterable) --> filter object\n",
      " |  \n",
      " |  Return an iterator yielding those items of iterable for which function(item)\n",
      " |  is true. If function is None, return the items that are true.\n",
      " |  \n",
      " |  Methods defined here:\n",
      " |  \n",
      " |  __getattribute__(self, name, /)\n",
      " |      Return getattr(self, name).\n",
      " |  \n",
      " |  __iter__(self, /)\n",
      " |      Implement iter(self).\n",
      " |  \n",
      " |  __next__(self, /)\n",
      " |      Implement next(self).\n",
      " |  \n",
      " |  __reduce__(...)\n",
      " |      Return state information for pickling.\n",
      " |  \n",
      " |  ----------------------------------------------------------------------\n",
      " |  Static methods defined here:\n",
      " |  \n",
      " |  __new__(*args, **kwargs) from builtins.type\n",
      " |      Create and return a new object.  See help(type) for accurate signature.\n",
      "\n"
     ]
    }
   ],
   "source": [
    "help(filter)\n"
   ],
   "metadata": {
    "collapsed": false
   }
  },
  {
   "cell_type": "code",
   "execution_count": 93,
   "outputs": [
    {
     "name": "stdout",
     "output_type": "stream",
     "text": [
      "Calculadora de ecuaciones de segundo grado\n",
      "----------------------------------------\n",
      "ax2 + bx + c = 0\n"
     ]
    }
   ],
   "source": [
    "    print(\"Calculadora de ecuaciones de segundo grado\\n\"\n",
    "          f\"{40 * '-'}\\nax2 + bx + c = 0\"\n",
    "          )\n"
   ],
   "metadata": {
    "collapsed": false
   }
  },
  {
   "cell_type": "code",
   "execution_count": 127,
   "outputs": [
    {
     "name": "stdout",
     "output_type": "stream",
     "text": [
      "Retrieving ...\n",
      "Saving ...\n",
      "Retrieving ...\n",
      "{'ac1234': {'name': 'fred', 'age': 22}, 'ac1235': {'name': 'kate', 'age': 19}, 'ac1236': {'name': 'phil', 'age': 20}}\n"
     ]
    }
   ],
   "source": [
    "    from pathlib import Path\n",
    "import json\n",
    "\n",
    "\n",
    "def load_data(filename: Path) -> dict | None:\n",
    "    print('Retrieving ...')\n",
    "    if filename.is_file():\n",
    "        try:\n",
    "            with filename.open() as source:\n",
    "                data = json.load(source)\n",
    "        except (IOError, json.JSONDecodeError):\n",
    "            print('Retrieval failed')\n",
    "            return\n",
    "        return data\n",
    "\n",
    "\n",
    "def save_data(data: dict, filename: Path) -> bool:\n",
    "    print('Saving ...')\n",
    "    try:\n",
    "        with filename.open(\"w\") as outfile:\n",
    "            json.dump(data, outfile)\n",
    "    except IOError:\n",
    "        print('Saving Failed')\n",
    "        return False\n",
    "    return True\n",
    "\n",
    "\n",
    "data = {'ac1234': {'name': 'fred', 'age': 22},\n",
    "        'ac1235': {'name': 'kate', 'age': 19},\n",
    "        'ac1236': {'name': 'phil', 'age': 20}\n",
    "        }\n",
    "\n",
    "filename = Path('temp.json')\n",
    "retrieved = load_data(filename)\n",
    "if retrieved is None:\n",
    "    if save_data(data, filename):\n",
    "        retrieved = load_data(filename)\n",
    "if retrieved:\n",
    "    print(retrieved)\n",
    "else:\n",
    "    print('not able to retrieve data')\n"
   ],
   "metadata": {
    "collapsed": false
   }
  },
  {
   "cell_type": "code",
   "execution_count": 16,
   "outputs": [
    {
     "ename": "TypeError",
     "evalue": "'str' object cannot be interpreted as an integer",
     "output_type": "error",
     "traceback": [
      "\u001B[0;31m---------------------------------------------------------------------------\u001B[0m",
      "\u001B[0;31mTypeError\u001B[0m                                 Traceback (most recent call last)",
      "Cell \u001B[0;32mIn [16], line 1\u001B[0m\n\u001B[0;32m----> 1\u001B[0m \u001B[38;5;28;43mrange\u001B[39;49m\u001B[43m(\u001B[49m\u001B[38;5;28;43mstr\u001B[39;49m\u001B[43m(\u001B[49m\u001B[38;5;28;43mbin\u001B[39;49m\u001B[43m(\u001B[49m\u001B[38;5;28;43mint\u001B[39;49m\u001B[43m(\u001B[49m\u001B[38;5;28;43minput\u001B[39;49m\u001B[43m(\u001B[49m\u001B[38;5;124;43m'\u001B[39;49m\u001B[38;5;124;43mLimit?\u001B[39;49m\u001B[38;5;124;43m'\u001B[39;49m\u001B[43m)\u001B[49m\u001B[43m)\u001B[49m\u001B[43m)\u001B[49m\u001B[43m)\u001B[49m\u001B[43m)\u001B[49m\n",
      "\u001B[0;31mTypeError\u001B[0m: 'str' object cannot be interpreted as an integer"
     ]
    }
   ],
   "source": [
    "range(str(bin(int(input('Limit?')))))\n"
   ],
   "metadata": {
    "collapsed": false
   }
  },
  {
   "cell_type": "code",
   "execution_count": 19,
   "outputs": [
    {
     "name": "stdout",
     "output_type": "stream",
     "text": [
      "drifting\n"
     ]
    }
   ],
   "source": [
    "    def is_yes(prompt):\n",
    "    while True:\n",
    "        response = input(prompt).strip().casefold()\n",
    "        if response in AFFIRMATION:\n",
    "            return True\n",
    "        if response in REJECTION:\n",
    "            return False\n",
    "        print('Sorry, I did not understand that')\n",
    "\n",
    "\n",
    "AFFIRMATION = frozenset(('y', 'yes', 'yup', 'yeh', 'ok', '1'))\n",
    "REJECTION = frozenset(('n', 'no', 'nah', 'nope', '0'))\n",
    "\n",
    "...\n",
    "\n",
    "if is_yes(\"Will you go down to the planet to explore? y/n \"):\n",
    "    print('landing')\n",
    "else:\n",
    "    print('drifting')"
   ],
   "metadata": {
    "collapsed": false
   }
  },
  {
   "cell_type": "code",
   "execution_count": null,
   "outputs": [],
   "source": [],
   "metadata": {
    "collapsed": false
   }
  },
  {
   "cell_type": "code",
   "execution_count": null,
   "outputs": [],
   "source": [
    "print(\"Welcome to the galaxy, wanderer. You have come from a time long ago.\")\n",
    "print(\"But for means which you will not know, you have been transported forward in time.\")\n",
    "print(\"to THE GALAXY!\")\n",
    "\n",
    "answer = input(\"Continue? y/n \")\n",
    "if answer in ['y', 'Y', 'yes', 'Yes', 'YES']:\n",
    "    print(\"Welcome\")\n",
    "    print(\"____________________________________________________________________________\")\n",
    "    print(\"What is your name, wanderer.\")\n",
    "    name = input(\"Name: \")\n",
    "    print(name + \" , you are wandering the far reaches of the Galaxy, when your ship has finally come low on\")\n",
    "print(\"rations. But luckily for you, your ship detects a planet with life on it where you may\")\n",
    "answer2 = input(\"be able to restock on rations. Will you go down to the planet to explore? y/n \")\n",
    "if answer2 in ['y', 'Y', 'yes', 'Yes', 'YES']: print(\n",
    "    \"After some maneuvering you have finally angled your ship torwards the planet, a few\")\n",
    "print(\"button presses and your ship is sent blasting off to the verdant planet.\")\n",
    "print(\"The green planet soon comes into view. You accelerate and your ships cockpit is engulfed\")\n",
    "print(\"in the orange glow of the atmospheres blazes.\")\n",
    "print(\" Your ship soon comes to a stop on the planets surface, and you exit, taking a deep breath.\")\n",
    "print(\"But your mission comes first, what direction do you go to find food? N/S/W/E\")\n",
    "direction1 = input(\"Direction: \")\n",
    "if direction1 in [\"n, N, north, North, NORTH\"]: print(\n",
    "    \"You walk north, torwards some grey mountain peaks in the horizon. When suddenly you hear the\")\n",
    "print(\"quiet shuffling of grasses to your left. do you investigate or turn back?\")\n",
    "investigate1 = input(\"answer: \")\n",
    "if investigate1 in [\"investigate, Investigate\"]: print(\n",
    "    \"You slowly walk torwards the shuffling grasses, which by now where shaking and agitated.\")\n",
    "print(\"you pull back some of the grass, your other hand firmly gripped on your blaster-pistol.\")\n",
    "if direction1 in [\"s, S, south, South, SOUTH\"]: print(\"test\")\n",
    "if answer2 in [\"n, N, no, No, NO\"]:\n",
    "    print(\"You died from Starvation | 0 Hours survived\")\n",
    "if answer in ['n, N, no, No, NO']:\n",
    "    print(\"You would have never survived anyways, scum.\")\n",
    "exit()\n"
   ],
   "metadata": {
    "collapsed": false
   }
  },
  {
   "cell_type": "code",
   "execution_count": 21,
   "outputs": [
    {
     "name": "stdout",
     "output_type": "stream",
     "text": [
      "Welcome to the galaxy, wanderer. You have come from a time long ago.\n",
      "But for means which you will not know, you have been transported forward in time.\n",
      "to THE GALAXY!\n"
     ]
    }
   ],
   "source": [
    "    print(\"\"\"Welcome to the galaxy, wanderer. You have come from a time long ago.\n",
    "    But for means which you will not know, you have been transported forward in time.\n",
    "    to THE GALAXY!\"\"\")\n"
   ],
   "metadata": {
    "collapsed": false
   }
  },
  {
   "cell_type": "code",
   "execution_count": 23,
   "outputs": [
    {
     "name": "stdout",
     "output_type": "stream",
     "text": [
      "[  2   3   5   7  11  13  17  19  23  29  31  37  41  43  47  53  59  61\n",
      "  67  71  73  79  83  89  97 101 103 107 109 113 127 131 137 139 149 151\n",
      " 157 163 167 173 179 181 191 193 197 199 211 223 227 229 233 239 241 251\n",
      " 257 263 269 271 277 281 283 293 307 311 313 317 331 337 347 349 353 359\n",
      " 367 373 379 383 389 397 401 409 419 421 431 433 439 443 449 457 461 463\n",
      " 467 479 487 491 499 503 509 521 523 541 547 557 563 569 571 577 587 593\n",
      " 599 601 607 613 617 619 631 641 643 647 653 659 661 673 677 683 691 701\n",
      " 709 719 727 733 739 743 751 757 761 769 773 787 797 809 811 821 823 827\n",
      " 829 839 853 857 859 863 877 881 883 887 907 911 919 929 937 941 947 953\n",
      " 967 971 977 983 991 997]\n"
     ]
    }
   ],
   "source": [
    "    import numpy as np\n",
    "\n",
    "\n",
    "def prime_sieve_np(n):\n",
    "    candidates = np.ones(n, dtype=bool)\n",
    "    limit = int(np.sqrt(n)) + 1\n",
    "    candidates[0:2] = False\n",
    "    for i in range(2, limit):\n",
    "        if candidates[i]:\n",
    "            candidates[i + i::i] = False\n",
    "    return np.flatnonzero(candidates)\n",
    "\n",
    "\n",
    "print(prime_sieve_np(1000))"
   ],
   "metadata": {
    "collapsed": false
   }
  },
  {
   "cell_type": "code",
   "execution_count": 26,
   "outputs": [],
   "source": [
    "    import math\n",
    "\n",
    "\n",
    "def prime_sieve_best(n):\n",
    "    candidates = bytearray(b\"\\x01\") * (n + 1)\n",
    "    candidates[0] = 0\n",
    "    candidates[1] = 0\n",
    "    limit = int(math.sqrt(n)) + 1\n",
    "    for i in range(2, limit):\n",
    "        if candidates[i]:\n",
    "            candidates[i + i::i] = [0] * ((n - i) // i)\n",
    "    return [i for i in range(n + 1) if candidates[i]]\n"
   ],
   "metadata": {
    "collapsed": false
   }
  },
  {
   "cell_type": "code",
   "execution_count": 14,
   "outputs": [
    {
     "name": "stdout",
     "output_type": "stream",
     "text": [
      "4.0\n",
      "2.0\n",
      "invalid number\n",
      "1.0\n",
      "exiting\n"
     ]
    }
   ],
   "source": [
    "    while True:\n",
    "        n = int(input(\"Please type in a number: \"))\n",
    "        if n == 0:\n",
    "            break\n",
    "        if n < 0:\n",
    "            print(\"invalid number\")\n",
    "        else:\n",
    "            print(n ** (0.5))\n",
    "    print(\"exiting\")"
   ],
   "metadata": {
    "collapsed": false
   }
  },
  {
   "cell_type": "code",
   "execution_count": 29,
   "outputs": [
    {
     "name": "stdout",
     "output_type": "stream",
     "text": [
      "F2<5qB94\n",
      "y%K4zvqO\n",
      "d94[aPfh\n",
      "E92I)b68\n",
      "w94tS>27\n"
     ]
    }
   ],
   "source": [
    "from string import ascii_lowercase, ascii_uppercase, ascii_letters, digits\n",
    "from random import choice, shuffle, randint\n",
    "\n",
    "def generate_password(size=16):\n",
    "    limit = min(3, max(1, size//5))\n",
    "    specials = [choice(punctuation) for _ in range(randint(1, limit))]\n",
    "    nums = [choice(digits) for _ in range(randint(1, 4))]\n",
    "    lowers = [choice(ascii_lowercase) for _ in range(randint(1, limit))]\n",
    "    uppers = [choice(ascii_uppercase) for _ in range(randint(1, limit))]\n",
    "    password = specials + nums + lowers + uppers\n",
    "    shuffle(password)\n",
    "    password = [choice(ascii_letters)] + password\n",
    "    if len(password) >= size:\n",
    "        return ''.join(password[:size])\n",
    "    password.extend([choice(ascii_letters) for _ in range(size - len(password))])\n",
    "    return ''.join(password[:size])\n",
    "\n",
    "punctutation = r'!#$%&\\()*+-/:;<=>?@[\\\\]^_`{|}~'\n",
    "\n",
    "for _ in range(5):\n",
    "    print(generate_password(8))\n"
   ],
   "metadata": {
    "collapsed": false
   }
  },
  {
   "cell_type": "code",
   "execution_count": 26,
   "outputs": [
    {
     "data": {
      "text/plain": "'!\"#$%&\\'()*+,-./:;<=>?@[\\\\]^_`{|}~'"
     },
     "execution_count": 26,
     "metadata": {},
     "output_type": "execute_result"
    }
   ],
   "source": [
    "punctuation\n"
   ],
   "metadata": {
    "collapsed": false
   }
  },
  {
   "cell_type": "code",
   "execution_count": null,
   "outputs": [],
   "source": [],
   "metadata": {
    "collapsed": false
   }
  }
 ],
 "metadata": {
  "kernelspec": {
   "display_name": "Python 3",
   "language": "python",
   "name": "python3"
  },
  "language_info": {
   "codemirror_mode": {
    "name": "ipython",
    "version": 2
   },
   "file_extension": ".py",
   "mimetype": "text/x-python",
   "name": "python",
   "nbconvert_exporter": "python",
   "pygments_lexer": "ipython2",
   "version": "2.7.6"
  }
 },
 "nbformat": 4,
 "nbformat_minor": 0
}
